{
  "cells": [
    {
      "cell_type": "code",
      "id": "yjB9yzTQFIIaVS4VG9ilsJij",
      "metadata": {
        "tags": [],
        "id": "yjB9yzTQFIIaVS4VG9ilsJij"
      },
      "source": [
        "! pip3 install --upgrade --user google-cloud-aiplatform==1.60.0"
      ],
      "execution_count": null,
      "outputs": []
    },
    {
      "cell_type": "code",
      "source": [
        "# Restart kernel after installs so that your environment can access the new packages\n",
        "import IPython\n",
        "\n",
        "app = IPython.Application.instance()\n",
        "app.kernel.do_shutdown(True)"
      ],
      "metadata": {
        "id": "vQjJjeW5UtFt"
      },
      "id": "vQjJjeW5UtFt",
      "execution_count": null,
      "outputs": []
    },
    {
      "cell_type": "code",
      "source": [
        "import vertexai\n",
        "\n",
        "PROJECT_ID = ! gcloud config get-value project\n",
        "PROJECT_ID = PROJECT_ID[0]\n",
        "LOCATION = \"us-central1\" # @param {type:\"string\"}\n",
        "\n",
        "print(PROJECT_ID)\n",
        "\n",
        "vertexai.init(project=PROJECT_ID, location=LOCATION)"
      ],
      "metadata": {
        "id": "OqGyIK3JUxaN"
      },
      "id": "OqGyIK3JUxaN",
      "execution_count": null,
      "outputs": []
    },
    {
      "cell_type": "code",
      "source": [
        "import requests\n",
        "from vertexai.generative_models import (\n",
        "    Content,\n",
        "    FunctionDeclaration,\n",
        "    GenerationConfig,\n",
        "    GenerativeModel,\n",
        "    Part,\n",
        "    Tool,\n",
        ")"
      ],
      "metadata": {
        "id": "FK3sOWSKU0vQ"
      },
      "id": "FK3sOWSKU0vQ",
      "execution_count": null,
      "outputs": []
    },
    {
      "cell_type": "code",
      "source": [
        "# Function to reverse the order of characters in a string\n",
        "def reverse(input_string: str) -> str:\n",
        "    print(\"Calling reverse function\")\n",
        "    return input_string[::-1]\n",
        "\n",
        "# Function to remove all spaces from a string\n",
        "def remove_white_spaces(input_string: str) -> str:\n",
        "    print(\"Calling remove_white_spaces function\")\n",
        "    return input_string.replace(\" \", \"\")"
      ],
      "metadata": {
        "id": "nM_FfDZQU3Vp"
      },
      "id": "nM_FfDZQU3Vp",
      "execution_count": null,
      "outputs": []
    },
    {
      "cell_type": "code",
      "source": [
        "# Define FunctionDeclarations for the functions\n",
        "reverse_function = FunctionDeclaration(\n",
        "    name=\"reverse\",\n",
        "    description=\"Reverses a string\",\n",
        "    parameters={\n",
        "        \"type\": \"object\",\n",
        "        \"properties\": {\n",
        "            \"input_string\": {\n",
        "                \"type\": \"string\",\n",
        "                \"description\": \"The string to reverse\"\n",
        "            }\n",
        "        }\n",
        "    }\n",
        ")\n",
        "\n",
        "remove_white_spaces_function = FunctionDeclaration(\n",
        "    name=\"remove_white_spaces\",\n",
        "    description=\"Removes spaces from a string\",\n",
        "    parameters={\n",
        "        \"type\": \"object\",\n",
        "        \"properties\": {\n",
        "            \"input_string\": {\n",
        "                \"type\": \"string\",\n",
        "                \"description\": \"The string to remove whitespaces\"\n",
        "            }\n",
        "        }\n",
        "    }\n",
        ")"
      ],
      "metadata": {
        "id": "kvsvuH7xU8c_"
      },
      "id": "kvsvuH7xU8c_",
      "execution_count": null,
      "outputs": []
    },
    {
      "cell_type": "code",
      "source": [
        "# Define the tools with the functions we created\n",
        "string_tool = Tool(\n",
        "    function_declarations=[reverse_function, remove_white_spaces_function]\n",
        ")"
      ],
      "metadata": {
        "id": "8Z-Ryih3U9xq"
      },
      "id": "8Z-Ryih3U9xq",
      "execution_count": null,
      "outputs": []
    },
    {
      "cell_type": "code",
      "source": [
        "# Initialize the model\n",
        "model = GenerativeModel(\n",
        "    model_name=\"gemini-1.5-pro-001\",\n",
        "    generation_config=GenerationConfig(temperature=0),\n",
        "    system_instruction=[\n",
        "        \"Fulfill the user's instructions.\",\n",
        "        \"If asked to reverse a string or remove whitespace, call the provided functions.\",\n",
        "        \"You may call one function after the other if needed.\",\n",
        "        \"Repeat the result to the user.\",\n",
        "    ],\n",
        "    tools=[string_tool],\n",
        ")\n",
        "\n",
        "# Initialize the chat model with tools and configuration\n",
        "chat = model.start_chat()"
      ],
      "metadata": {
        "id": "wWkctUZCVBbO"
      },
      "id": "wWkctUZCVBbO",
      "execution_count": null,
      "outputs": []
    },
    {
      "cell_type": "code",
      "source": [
        "def handle_response(response):\n",
        "    # Check if there's a function call in the response\n",
        "    if response.candidates[0].function_calls:\n",
        "        function_call = response.candidates[0].function_calls[0]\n",
        "    else:\n",
        "        # If no function call, print the response text\n",
        "        print(response.text)\n",
        "        return\n",
        "\n",
        "\n",
        "    # If the function call is for the reverse_string function\n",
        "    if function_call.name == \"reverse\":\n",
        "        # Extract the input argument for the reverse function\n",
        "        input_string = function_call.args[\"input_string\"]\n",
        "\n",
        "        # Call the reverse function\n",
        "        reversed_string = reverse(input_string)  # assuming reverse_string is defined\n",
        "\n",
        "        # Send the result back to the chat session\n",
        "        response = chat.send_message(\n",
        "            Part.from_function_response(\n",
        "                name=function_call.name,\n",
        "                response={\n",
        "                    \"content\": reversed_string,\n",
        "                },\n",
        "            ),\n",
        "        )\n",
        "        # Handle the response recursively\n",
        "        return handle_response(response)\n",
        "\n",
        "    # If the function call is for the remove_white_spaces function\n",
        "    elif function_call.name == \"remove_white_spaces\":\n",
        "        # Extract the input argument for the remove_white_spaces function\n",
        "        input_string = function_call.args[\"input_string\"]\n",
        "\n",
        "        # Call the remove_white_spaces function\n",
        "        no_space_string = remove_white_spaces(input_string)  # assuming remove_white_spaces is defined\n",
        "\n",
        "        # Send the result back to the chat session\n",
        "        response = chat.send_message(\n",
        "            Part.from_function_response(\n",
        "                name=function_call.name,\n",
        "                response={\n",
        "                    \"content\": no_space_string,\n",
        "                },\n",
        "            ),\n",
        "        )\n",
        "        # Handle the response recursively\n",
        "        return handle_response(response)\n",
        "\n",
        "    else:\n",
        "        # You shouldn't end up here\n",
        "        print(function_call)"
      ],
      "metadata": {
        "id": "KkUxWWRuVCo2"
      },
      "id": "KkUxWWRuVCo2",
      "execution_count": null,
      "outputs": []
    },
    {
      "cell_type": "code",
      "source": [
        "response = chat.send_message(\"Tell me a joke.\")\n",
        "handle_response(response)"
      ],
      "metadata": {
        "colab": {
          "base_uri": "https://localhost:8080/"
        },
        "id": "lf6PCMgRVFjS",
        "executionInfo": {
          "status": "ok",
          "timestamp": 1727538690146,
          "user_tz": -180,
          "elapsed": 1608,
          "user": {
            "displayName": "",
            "userId": ""
          }
        },
        "outputId": "74f832ec-9360-4f01-e763-71152154a4e8"
      },
      "id": "lf6PCMgRVFjS",
      "execution_count": null,
      "outputs": [
        {
          "output_type": "stream",
          "name": "stdout",
          "text": [
            "Why don't scientists trust atoms? \n",
            "\n",
            "Because they make up everything! \n",
            "\n"
          ]
        }
      ]
    },
    {
      "cell_type": "code",
      "source": [
        "response = chat.send_message(\"Reverse the following string: Hello world\")\n",
        "handle_response(response)"
      ],
      "metadata": {
        "colab": {
          "base_uri": "https://localhost:8080/"
        },
        "id": "mrfxtMw9VOye",
        "executionInfo": {
          "status": "ok",
          "timestamp": 1727538723569,
          "user_tz": -180,
          "elapsed": 2286,
          "user": {
            "displayName": "",
            "userId": ""
          }
        },
        "outputId": "84b69cd2-382b-47fc-c0aa-93081b408b83"
      },
      "id": "mrfxtMw9VOye",
      "execution_count": null,
      "outputs": [
        {
          "output_type": "stream",
          "name": "stdout",
          "text": [
            "Calling reverse function\n",
            "dlrow olleH \n",
            "\n"
          ]
        }
      ]
    },
    {
      "cell_type": "code",
      "source": [
        "response = chat.send_message(\"Remove the white spaces from the following word: hello @ world. com\")\n",
        "handle_response(response)"
      ],
      "metadata": {
        "colab": {
          "base_uri": "https://localhost:8080/"
        },
        "id": "jGtzWeGPVSvC",
        "executionInfo": {
          "status": "ok",
          "timestamp": 1727538739560,
          "user_tz": -180,
          "elapsed": 2009,
          "user": {
            "displayName": "",
            "userId": ""
          }
        },
        "outputId": "d037c56d-7695-47ca-e627-8be73c9d48e0"
      },
      "id": "jGtzWeGPVSvC",
      "execution_count": null,
      "outputs": [
        {
          "output_type": "stream",
          "name": "stdout",
          "text": [
            "Calling remove_white_spaces function\n",
            "hello@world.com \n",
            "\n"
          ]
        }
      ]
    },
    {
      "cell_type": "code",
      "source": [
        "response = chat.send_message(\"Reverse the following string and remove spaces: I do not understand the new sentence.\")\n",
        "handle_response(response)"
      ],
      "metadata": {
        "colab": {
          "base_uri": "https://localhost:8080/"
        },
        "id": "DnC58jdOVVeE",
        "executionInfo": {
          "status": "ok",
          "timestamp": 1727538751992,
          "user_tz": -180,
          "elapsed": 3313,
          "user": {
            "displayName": "",
            "userId": ""
          }
        },
        "outputId": "c4f65d2c-14aa-46d3-a94c-afd299ce8057"
      },
      "id": "DnC58jdOVVeE",
      "execution_count": null,
      "outputs": [
        {
          "output_type": "stream",
          "name": "stdout",
          "text": [
            "Calling reverse function\n",
            "Calling remove_white_spaces function\n",
            ".ecnetneswenehtdnatsrednutonodI \n",
            "\n"
          ]
        }
      ]
    },
    {
      "cell_type": "code",
      "source": [
        "response = chat.send_message(\"Tell me a fact. Then remove the spaces in the fact text and then reverse the fact text.\")\n",
        "print(response.candidates[0].content.parts[0].text)\n",
        "handle_response(response)"
      ],
      "metadata": {
        "colab": {
          "base_uri": "https://localhost:8080/"
        },
        "id": "JWDkN3v0VYWL",
        "executionInfo": {
          "status": "ok",
          "timestamp": 1727538763786,
          "user_tz": -180,
          "elapsed": 3244,
          "user": {
            "displayName": "",
            "userId": ""
          }
        },
        "outputId": "2765d109-b5b0-408a-e372-9a0c8a6fd1e2"
      },
      "id": "JWDkN3v0VYWL",
      "execution_count": null,
      "outputs": [
        {
          "output_type": "stream",
          "name": "stdout",
          "text": [
            "A group of owls is called a parliament. \n",
            "\n",
            "\n",
            "Calling remove_white_spaces function\n",
            "Calling reverse function\n",
            ".tnemailrapadellacsislwofopuorgA \n",
            "\n"
          ]
        }
      ]
    }
  ],
  "metadata": {
    "kernelspec": {
      "display_name": "Python 3",
      "language": "python",
      "name": "python3"
    },
    "language_info": {
      "codemirror_mode": {
        "name": "ipython",
        "version": 3
      },
      "file_extension": ".py",
      "mimetype": "text/x-python",
      "name": "python",
      "nbconvert_exporter": "python",
      "pygments_lexer": "ipython3",
      "version": "3.10.10"
    },
    "colab": {
      "provenance": [],
      "name": "Enhancing Large Language Models with Function Calling: A Gemini Case Study"
    }
  },
  "nbformat": 4,
  "nbformat_minor": 5
}